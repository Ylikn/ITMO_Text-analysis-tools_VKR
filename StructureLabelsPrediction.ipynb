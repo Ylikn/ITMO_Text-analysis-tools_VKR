{
 "cells": [
  {
   "cell_type": "code",
   "execution_count": 1,
   "id": "handed-coordinate",
   "metadata": {},
   "outputs": [],
   "source": [
    "import pandas as pd\n",
    "import seaborn as sns\n",
    "from sklearn.feature_extraction.text import TfidfTransformer\n",
    "from sklearn.linear_model import SGDClassifier, LogisticRegression\n",
    "from sklearn.svm import SVC\n",
    "from sklearn.model_selection import GridSearchCV\n",
    "from sklearn.pipeline import Pipeline\n",
    "from sklearn.feature_extraction.text import CountVectorizer, TfidfVectorizer\n",
    "import numpy as np\n",
    "from sklearn import metrics\n",
    "from sklearn.model_selection import train_test_split\n",
    "from sklearn.preprocessing import LabelEncoder, OneHotEncoder\n",
    "import matplotlib.pyplot as plt\n",
    "import joblib\n",
    "import warnings\n",
    "warnings.filterwarnings('ignore')"
   ]
  },
  {
   "cell_type": "code",
   "execution_count": 7,
   "id": "limiting-august",
   "metadata": {},
   "outputs": [],
   "source": [
    "def classification_building(df, label_name, data_name='main_preproc_text'):\n",
    "    \n",
    "    print(label_name)\n",
    "    \n",
    "    X = df[data_name]\n",
    "    y = df[label_name]\n",
    "    X_train, X_test, y_train, y_test = train_test_split(X, y, test_size=0.1, random_state=100)\n",
    "\n",
    "    print('train')\n",
    "    sns.countplot(y_train)\n",
    "    plt.show()\n",
    "\n",
    "    print('test')\n",
    "    sns.countplot(y_test)\n",
    "    plt.show()\n",
    "\n",
    "\n",
    "    pipeline = Pipeline([\n",
    "        ('vect', TfidfVectorizer()),\n",
    "        ('model',SGDClassifier(n_jobs=-1))])\n",
    "    \n",
    "   \n",
    "    params={'model__loss':[ 'hinge', 'log', 'modified_huber', 'squared_hinge', 'perceptron'],\n",
    "            'model__penalty':['l1','l2'], \n",
    "            'vect__ngram_range':[(1, 1), (1, 2)], \n",
    "            'model__class_weight':[{0:1, 1:1}, {0:2, 1:1}, {0:3, 1:2}]}\n",
    "\n",
    "    grid = GridSearchCV(pipeline, cv=3, n_jobs=-1, param_grid=params)\n",
    "    grid.fit(X_train, y_train)\n",
    "    model_best = grid.best_estimator_\n",
    "    print(model_best)\n",
    "    predicted = model_best.predict(X_test)\n",
    "    print('accuracy:', metrics.accuracy_score(predicted, y_test))\n",
    "    print('\\n')\n",
    "    print(metrics.classification_report(y_test, predicted))\n",
    "    model_best.fit(X, y)\n",
    "    \n",
    "    \n",
    "    # значимые слова\n",
    "    df_fi = pd.DataFrame(model_best.named_steps['model'].coef_.T)\n",
    "    df_fi = df_fi.rename(columns={c:'coef_' + str(c) for c in df_fi.columns})\n",
    "    df_fi.index = model_best.named_steps['vect'].get_feature_names()\n",
    "    df_fi = df_fi.sort_values(by = list(df_fi.columns), ascending =False)\n",
    "    print(len(df_fi))    \n",
    "    fi_keys = []\n",
    "    for col in df_fi.columns:\n",
    "        fi_col = df_fi[col].sort_values(ascending =False)[:10]\n",
    "        keywords = df_fi.index.values\n",
    "        fi_keys.append({'label':col.split('_')[1], 'keywords':keywords})\n",
    "        print(col)\n",
    "        print(fi_col)\n",
    "        print('\\n')\n",
    "    df_fi_keys = pd.DataFrame(fi_keys)    \n",
    "    return model_best, df_fi_keys"
   ]
  },
  {
   "cell_type": "code",
   "execution_count": 8,
   "id": "cheap-square",
   "metadata": {},
   "outputs": [
    {
     "name": "stdout",
     "output_type": "stream",
     "text": [
      "Количество текстов: 359\n"
     ]
    },
    {
     "data": {
      "text/html": [
       "<div>\n",
       "<style scoped>\n",
       "    .dataframe tbody tr th:only-of-type {\n",
       "        vertical-align: middle;\n",
       "    }\n",
       "\n",
       "    .dataframe tbody tr th {\n",
       "        vertical-align: top;\n",
       "    }\n",
       "\n",
       "    .dataframe thead th {\n",
       "        text-align: right;\n",
       "    }\n",
       "</style>\n",
       "<table border=\"1\" class=\"dataframe\">\n",
       "  <thead>\n",
       "    <tr style=\"text-align: right;\">\n",
       "      <th></th>\n",
       "      <th>title</th>\n",
       "      <th>main_preproc_text</th>\n",
       "    </tr>\n",
       "  </thead>\n",
       "  <tbody>\n",
       "    <tr>\n",
       "      <th>0</th>\n",
       "      <td>Анализ психологических типов сотрудников для м...</td>\n",
       "      <td>федеральный государственный автономный образов...</td>\n",
       "    </tr>\n",
       "    <tr>\n",
       "      <th>1</th>\n",
       "      <td>Исследование влияния алгоритма стохастического...</td>\n",
       "      <td>автор бахтияров алина шамильевич фамилия имя о...</td>\n",
       "    </tr>\n",
       "  </tbody>\n",
       "</table>\n",
       "</div>"
      ],
      "text/plain": [
       "                                               title  \\\n",
       "0  Анализ психологических типов сотрудников для м...   \n",
       "1  Исследование влияния алгоритма стохастического...   \n",
       "\n",
       "                                   main_preproc_text  \n",
       "0  федеральный государственный автономный образов...  \n",
       "1  автор бахтияров алина шамильевич фамилия имя о...  "
      ]
     },
     "execution_count": 8,
     "metadata": {},
     "output_type": "execute_result"
    }
   ],
   "source": [
    "df = pd.read_csv('VKR_docs_structure.csv')\n",
    "df['dict_sections_texts'] = df['dict_sections_texts'].map(eval)\n",
    "df = df[['title', 'main_preproc_text']]\n",
    "print('Количество текстов:', len(df))\n",
    "df.head(2)"
   ]
  },
  {
   "cell_type": "code",
   "execution_count": 9,
   "id": "naughty-capture",
   "metadata": {},
   "outputs": [
    {
     "data": {
      "text/plain": [
       "{'page0': 'наличие целей',\n",
       " 'page1': 'наличие задач',\n",
       " 'page2': 'наличие во введение цели и задач',\n",
       " 'page3': 'соответствие темы работы направлению',\n",
       " 'page4': 'соответствие введения заданной теме',\n",
       " 'page5': 'наличие актуальности во введении',\n",
       " 'page6': 'наличие обоснования актуальности во введении'}"
      ]
     },
     "execution_count": 9,
     "metadata": {},
     "output_type": "execute_result"
    }
   ],
   "source": [
    "page_names = ['наличие целей', 'наличие задач', 'наличие во введение цели и задач',\n",
    "                  'соответствие темы работы направлению', 'соответствие введения заданной теме',\n",
    "                  'наличие актуальности во введении', \n",
    "                  'наличие обоснования актуальности во введении']\n",
    "lst_page_names = ['page0', 'page1', 'page2', 'page3', 'page4', 'page5', 'page6']   \n",
    "\n",
    "dict_page_names = {k:v for k, v in zip(lst_page_names, page_names)}\n",
    "dict_page_names"
   ]
  },
  {
   "cell_type": "code",
   "execution_count": 10,
   "id": "amateur-masters",
   "metadata": {},
   "outputs": [
    {
     "data": {
      "text/plain": [
       "'соответствие введения заданной теме'"
      ]
     },
     "execution_count": 10,
     "metadata": {},
     "output_type": "execute_result"
    }
   ],
   "source": [
    "dict_page_names.pop('page2')\n",
    "dict_page_names.pop('page3')\n",
    "dict_page_names.pop('page4')"
   ]
  },
  {
   "cell_type": "raw",
   "id": "automated-banks",
   "metadata": {},
   "source": [
    "df_lab = pd.read_excel('ProblemsLabelling.xlsx', )\n",
    "df_lab = df_lab.dropna(axis=1).drop(columns=['id', 'path_doc', 'faculty', 'department'])\n",
    "df_lab = df_lab.merge(df[['title', 'main_preproc_text']]).drop_duplicates().dropna()\n",
    "print(len(df_lab))\n",
    "print(df_lab.columns)\n",
    "for l in ['in paper', 'in introduction', 'in annotation']:\n",
    "    sns.countplot(df_lab[l])\n",
    "    plt.show()   \n",
    "df_lab.head()"
   ]
  },
  {
   "cell_type": "code",
   "execution_count": 11,
   "id": "congressional-burlington",
   "metadata": {
    "scrolled": false
   },
   "outputs": [
    {
     "name": "stdout",
     "output_type": "stream",
     "text": [
      "page_name: page0 наличие целей\n",
      "len(df_lab) 327\n",
      "1\n"
     ]
    },
    {
     "data": {
      "image/png": "[encoded data removed]",
      "text/plain": [
       "<Figure size 504x360 with 1 Axes>"
      ]
     },
     "metadata": {
      "needs_background": "light"
     },
     "output_type": "display_data"
    },
    {
     "name": "stdout",
     "output_type": "stream",
     "text": [
      "in introduction\n",
      "train\n"
     ]
    },
    {
     "data": {
      "image/png": "[encoded data removed]",
      "text/plain": [
       "<Figure size 432x288 with 1 Axes>"
      ]
     },
     "metadata": {
      "needs_background": "light"
     },
     "output_type": "display_data"
    },
    {
     "name": "stdout",
     "output_type": "stream",
     "text": [
      "test\n"
     ]
    },
    {
     "data": {
      "image/png": "[encoded data removed]",
      "text/plain": [
       "<Figure size 432x288 with 1 Axes>"
      ]
     },
     "metadata": {
      "needs_background": "light"
     },
     "output_type": "display_data"
    },
    {
     "name": "stdout",
     "output_type": "stream",
     "text": [
      "Pipeline(steps=[('vect', TfidfVectorizer(ngram_range=(1, 2))),\n",
      "                ('model',\n",
      "                 SGDClassifier(class_weight={0: 3, 1: 2}, loss='squared_hinge',\n",
      "                               n_jobs=-1, penalty='l1'))])\n",
      "accuracy: 0.6666666666666666\n",
      "\n",
      "\n",
      "              precision    recall  f1-score   support\n",
      "\n",
      "           0       0.42      0.56      0.48         9\n",
      "           1       0.81      0.71      0.76        24\n",
      "\n",
      "    accuracy                           0.67        33\n",
      "   macro avg       0.61      0.63      0.62        33\n",
      "weighted avg       0.70      0.67      0.68        33\n",
      "\n",
      "589691\n",
      "coef_0\n",
      "блокчейн                1.015258e+13\n",
      "пакетный предложение    1.013078e+13\n",
      "кобылий                 1.002864e+13\n",
      "квас                    9.681628e+12\n",
      "ставка                  8.220342e+12\n",
      "редуктор                7.902704e+12\n",
      "кобылий молоко          7.800052e+12\n",
      "дрожжи                  7.724541e+12\n",
      "билет                   7.062194e+12\n",
      "сборка                  6.989045e+12\n",
      "Name: coef_0, dtype: float64\n",
      "\n",
      "\n",
      "\n",
      "\n",
      "___________________________________________________________________________________________________________\n",
      "\n",
      "\n",
      "---------------------------------------------------------------------------------\n",
      "page_name: page1 наличие задач\n",
      "len(df_lab) 327\n",
      "1\n"
     ]
    },
    {
     "data": {
      "image/png": "[encoded data removed]",
      "text/plain": [
       "<Figure size 504x360 with 1 Axes>"
      ]
     },
     "metadata": {
      "needs_background": "light"
     },
     "output_type": "display_data"
    },
    {
     "name": "stdout",
     "output_type": "stream",
     "text": [
      "in introduction\n",
      "train\n"
     ]
    },
    {
     "data": {
      "image/png": "[encoded data removed]",
      "text/plain": [
       "<Figure size 432x288 with 1 Axes>"
      ]
     },
     "metadata": {
      "needs_background": "light"
     },
     "output_type": "display_data"
    },
    {
     "name": "stdout",
     "output_type": "stream",
     "text": [
      "test\n"
     ]
    },
    {
     "data": {
      "image/png": "[encoded data removed]",
      "text/plain": [
       "<Figure size 432x288 with 1 Axes>"
      ]
     },
     "metadata": {
      "needs_background": "light"
     },
     "output_type": "display_data"
    },
    {
     "name": "stdout",
     "output_type": "stream",
     "text": [
      "Pipeline(steps=[('vect', TfidfVectorizer(ngram_range=(1, 2))),\n",
      "                ('model', SGDClassifier(class_weight={0: 1, 1: 1}, n_jobs=-1))])\n",
      "accuracy: 0.6666666666666666\n",
      "\n",
      "\n",
      "              precision    recall  f1-score   support\n",
      "\n",
      "           0       0.62      0.42      0.50        12\n",
      "           1       0.68      0.83      0.75        18\n",
      "\n",
      "    accuracy                           0.67        30\n",
      "   macro avg       0.65      0.62      0.62        30\n",
      "weighted avg       0.66      0.67      0.65        30\n",
      "\n",
      "561721\n",
      "coef_0\n",
      "сыр                   2.204398\n",
      "отзыв                 2.196869\n",
      "жалоба                1.839882\n",
      "динамический стенд    1.838110\n",
      "уведомление           1.799590\n",
      "рассылка              1.701150\n",
      "поле                  1.684945\n",
      "овсяный               1.661199\n",
      "абтест                1.654087\n",
      "железо                1.642491\n",
      "Name: coef_0, dtype: float64\n",
      "\n",
      "\n",
      "\n",
      "\n",
      "___________________________________________________________________________________________________________\n",
      "\n",
      "\n",
      "---------------------------------------------------------------------------------\n",
      "page_name: page5 наличие актуальности во введении\n",
      "len(df_lab) 327\n",
      "1\n"
     ]
    },
    {
     "data": {
      "image/png": "[encoded data removed]",
      "text/plain": [
       "<Figure size 504x360 with 1 Axes>"
      ]
     },
     "metadata": {
      "needs_background": "light"
     },
     "output_type": "display_data"
    },
    {
     "name": "stdout",
     "output_type": "stream",
     "text": [
      "label\n",
      "train\n"
     ]
    },
    {
     "data": {
      "image/png": "[encoded data removed]",
      "text/plain": [
       "<Figure size 432x288 with 1 Axes>"
      ]
     },
     "metadata": {
      "needs_background": "light"
     },
     "output_type": "display_data"
    },
    {
     "name": "stdout",
     "output_type": "stream",
     "text": [
      "test\n"
     ]
    },
    {
     "data": {
      "image/png": "[encoded data removed]",
      "text/plain": [
       "<Figure size 432x288 with 1 Axes>"
      ]
     },
     "metadata": {
      "needs_background": "light"
     },
     "output_type": "display_data"
    },
    {
     "name": "stdout",
     "output_type": "stream",
     "text": [
      "Pipeline(steps=[('vect', TfidfVectorizer(ngram_range=(1, 2))),\n",
      "                ('model',\n",
      "                 SGDClassifier(class_weight={0: 1, 1: 1}, loss='log',\n",
      "                               n_jobs=-1))])\n",
      "accuracy: 0.7272727272727273\n",
      "\n",
      "\n",
      "              precision    recall  f1-score   support\n",
      "\n",
      "           0       0.77      0.81      0.79        21\n",
      "           1       0.64      0.58      0.61        12\n",
      "\n",
      "    accuracy                           0.73        33\n",
      "   macro avg       0.70      0.70      0.70        33\n",
      "weighted avg       0.72      0.73      0.72        33\n",
      "\n",
      "597754\n",
      "coef_0\n",
      "сеть           3.160413\n",
      "сигнатура      3.076125\n",
      "напиток        3.052048\n",
      "трафик         2.733179\n",
      "ученик         2.720061\n",
      "информация     2.560162\n",
      "шоколад        2.514080\n",
      "защита         2.496753\n",
      "сыр            2.491699\n",
      "калькулятор    2.463380\n",
      "Name: coef_0, dtype: float64\n",
      "\n",
      "\n",
      "\n",
      "\n",
      "___________________________________________________________________________________________________________\n",
      "\n",
      "\n",
      "---------------------------------------------------------------------------------\n",
      "page_name: page6 наличие обоснования актуальности во введении\n",
      "len(df_lab) 327\n",
      "1\n"
     ]
    },
    {
     "data": {
      "image/png": "[encoded data removed]",
      "text/plain": [
       "<Figure size 504x360 with 1 Axes>"
      ]
     },
     "metadata": {
      "needs_background": "light"
     },
     "output_type": "display_data"
    },
    {
     "name": "stdout",
     "output_type": "stream",
     "text": [
      "label\n",
      "train\n"
     ]
    },
    {
     "data": {
      "image/png": "[encoded data removed]",
      "text/plain": [
       "<Figure size 432x288 with 1 Axes>"
      ]
     },
     "metadata": {
      "needs_background": "light"
     },
     "output_type": "display_data"
    },
    {
     "name": "stdout",
     "output_type": "stream",
     "text": [
      "test\n"
     ]
    },
    {
     "data": {
      "image/png": "[encoded data removed]",
      "text/plain": [
       "<Figure size 432x288 with 1 Axes>"
      ]
     },
     "metadata": {
      "needs_background": "light"
     },
     "output_type": "display_data"
    },
    {
     "name": "stdout",
     "output_type": "stream",
     "text": [
      "Pipeline(steps=[('vect', TfidfVectorizer(ngram_range=(1, 2))),\n",
      "                ('model',\n",
      "                 SGDClassifier(class_weight={0: 3, 1: 2}, loss='log',\n",
      "                               n_jobs=-1))])\n",
      "accuracy: 0.696969696969697\n",
      "\n",
      "\n",
      "              precision    recall  f1-score   support\n",
      "\n",
      "           0       0.77      0.83      0.80        24\n",
      "           1       0.43      0.33      0.38         9\n",
      "\n",
      "    accuracy                           0.70        33\n",
      "   macro avg       0.60      0.58      0.59        33\n",
      "weighted avg       0.68      0.70      0.68        33\n",
      "\n",
      "597754\n",
      "coef_0\n",
      "трафик             4.633430\n",
      "шоколад            4.172173\n",
      "сеть               4.125136\n",
      "отход              3.779708\n",
      "сыр                3.673662\n",
      "калькулятор        3.572363\n",
      "менеджер пароль    3.507898\n",
      "магнитный          3.353770\n",
      "нефть              3.195887\n",
      "квас               3.171783\n",
      "Name: coef_0, dtype: float64\n",
      "\n",
      "\n",
      "\n",
      "\n",
      "___________________________________________________________________________________________________________\n",
      "\n",
      "\n",
      "---------------------------------------------------------------------------------\n",
      "Wall time: 9min 51s\n"
     ]
    }
   ],
   "source": [
    "%%time\n",
    "dict_results = {}\n",
    "for page in dict_page_names:\n",
    "    pn = dict_page_names[page]\n",
    "    print('page_name:', page,  pn)\n",
    "    df_lab = pd.read_excel('ProblemsLabelling.xlsx', sheet_name=page)\n",
    "    drop_cols = list(set(df_lab.columns) & set(['id', 'path_doc', 'faculty', 'department', 'in paper', 'in annotation']))\n",
    "    df_lab = df_lab.dropna(axis=1).drop(columns=drop_cols)\n",
    "    df_lab = df_lab.merge(df[['title', 'main_preproc_text']]).drop_duplicates().dropna()\n",
    "    print('len(df_lab)', len(df_lab))\n",
    "    \n",
    "    label_names = df_lab.drop(columns = ['title', 'main_preproc_text']).columns\n",
    "    print(len(label_names))\n",
    "    for label_name in label_names:\n",
    "        plt.figure(figsize=(7,5))\n",
    "        df_lab = df_lab[df_lab[label_name].isin([0, 1])]\n",
    "        sns.countplot(df_lab[label_name])\n",
    "        plt.show()\n",
    "        \n",
    "        model_best, df_fi_keys = classification_building(df = df_lab, label_name = label_name, data_name='main_preproc_text')\n",
    "        dict_results[pn] = {'model_best':model_best, 'df_fi_keys':df_fi_keys}\n",
    "        joblib.dump(dict_results, 'dict_results.jbl')\n",
    "        print('\\n')\n",
    "        print('___________________________________________________________________________________________________________')\n",
    "        print('\\n')\n",
    "    print('---------------------------------------------------------------------------------')"
   ]
  },
  {
   "cell_type": "code",
   "execution_count": null,
   "id": "detected-blame",
   "metadata": {},
   "outputs": [],
   "source": []
  }
 ],
 "metadata": {
  "kernelspec": {
   "display_name": "Python 3",
   "language": "python",
   "name": "python3"
  },
  "language_info": {
   "codemirror_mode": {
    "name": "ipython",
    "version": 3
   },
   "file_extension": ".py",
   "mimetype": "text/x-python",
   "name": "python",
   "nbconvert_exporter": "python",
   "pygments_lexer": "ipython3",
   "version": "3.8.8"
  }
 },
 "nbformat": 4,
 "nbformat_minor": 5
}
